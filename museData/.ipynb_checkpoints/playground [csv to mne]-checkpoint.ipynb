{
 "cells": [
  {
   "cell_type": "code",
   "execution_count": null,
   "id": "355e29d6-f9e5-4bcd-9e94-b5b9824e2642",
   "metadata": {},
   "outputs": [],
   "source": [
    "# Template from https://mne.discourse.group/t/eeg-data-csv-file-preprocessing/4040/4\n",
    "# Another usefull link for creating mne data strcutures https://mne.tools/stable/auto_tutorials/simulation/10_array_objs.html\n",
    "import pandas as pd\n",
    "import mne\n",
    "dataframe = pd.read_csv('Data.csv', skip_rows=1) \n",
    "\n",
    "#From the link above - there is more info on how to define channel type etc for info structure\n",
    "n_channels = len(dataframe.columns)    \n",
    "sampling_freq = ???  # in Hertz - This is in the first line of the CSV\n",
    "info = mne.create_info(n_channels, sfreq=sampling_freq)\n",
    "raw = mne.io.RawArray(dataframe.values, info)  \n",
    "\n",
    "#...preprocessing ...\n",
    "raw.save('Data.fif')"
   ]
  }
 ],
 "metadata": {
  "kernelspec": {
   "display_name": "Python 3 (ipykernel)",
   "language": "python",
   "name": "python3"
  },
  "language_info": {
   "codemirror_mode": {
    "name": "ipython",
    "version": 3
   },
   "file_extension": ".py",
   "mimetype": "text/x-python",
   "name": "python",
   "nbconvert_exporter": "python",
   "pygments_lexer": "ipython3",
   "version": "3.10.18"
  }
 },
 "nbformat": 4,
 "nbformat_minor": 5
}
