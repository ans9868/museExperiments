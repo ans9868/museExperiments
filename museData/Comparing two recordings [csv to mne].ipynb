{
 "cells": [
  {
   "cell_type": "markdown",
   "id": "87aad6df-d9a7-4981-a943-2ba3b4cec37b",
   "metadata": {},
   "source": [
    "# Comoparing 2 recordings\n",
    "Goals\n",
    "Whole recording comparisons\n",
    "* Graph recordings and compare bandranges visually (psd and topo)\n",
    "* See the difference between band ranges as a statistic\n",
    "* see the difference between band range ratios as a statistic (delta/apha ration theta/alpha ratio ect.)\n",
    "* make a correlation matrix between electrods and wavebands and waveband ratios\n",
    "\n",
    "Epoch Comparisons\n",
    "* reject epochs too flat / too high amplitude\n",
    "* Graph recordings and compare bandranges visually (psd and topo)\n",
    "* See the difference between band ranges as a statistic\n",
    "* see teh difference between band range ratios as a statistic\n",
    "* make a correlation matrix between electrods and wavebands and waveband ratios"
   ]
  },
  {
   "cell_type": "markdown",
   "id": "e216e797-62ee-4cae-930c-993553221bb7",
   "metadata": {},
   "source": [
    "# Whole recording comparisons"
   ]
  },
  {
   "cell_type": "code",
   "execution_count": null,
   "id": "b504ce3d-f5dd-4b30-a7bf-a22b2f54f8ee",
   "metadata": {},
   "outputs": [],
   "source": []
  }
 ],
 "metadata": {
  "kernelspec": {
   "display_name": "Python 3 (ipykernel)",
   "language": "python",
   "name": "python3"
  },
  "language_info": {
   "codemirror_mode": {
    "name": "ipython",
    "version": 3
   },
   "file_extension": ".py",
   "mimetype": "text/x-python",
   "name": "python",
   "nbconvert_exporter": "python",
   "pygments_lexer": "ipython3",
   "version": "3.10.18"
  }
 },
 "nbformat": 4,
 "nbformat_minor": 5
}
